{
 "cells": [
  {
   "cell_type": "markdown",
   "metadata": {
    "collapsed": true
   },
   "source": [
    "# This notebook is about path search"
   ]
  },
  {
   "cell_type": "markdown",
   "metadata": {},
   "source": [
    "First let's create a grid where the start is (0,0) and the goal is (4,5), we use 0 for open space and -1 for walls"
   ]
  },
  {
   "cell_type": "code",
   "execution_count": 1,
   "metadata": {},
   "outputs": [],
   "source": [
    "grid = [  # grid of the map\n",
    "    [0, 0, -1, 0, 0, 0],\n",
    "    [0, 0, -1, 0, 0, 0],\n",
    "    [0, 0, 0, 0, -1, 0],\n",
    "    [0, 0, -1, -1, 0, 0],\n",
    "    [0, 0, 0, 0, -1, 0]\n",
    "]\n",
    "start = (0, 0)  # start index\n",
    "goal = (4, 5)  # goal index"
   ]
  },
  {
   "cell_type": "markdown",
   "metadata": {},
   "source": [
    "Now let's draw the map to see what the world look like"
   ]
  },
  {
   "cell_type": "code",
   "execution_count": 3,
   "metadata": {},
   "outputs": [
    {
     "data": {
      "image/png": "[encoded data removed]",
      "text/plain": [
       "<matplotlib.figure.Figure at 0x26310e5a6d8>"
      ]
     },
     "metadata": {},
     "output_type": "display_data"
    }
   ],
   "source": [
    "import matplotlib.pyplot as plt\n",
    "import matplotlib.patches as patches\n",
    "\n",
    "fig = plt.figure(1)  # create figure\n",
    "ax = fig.add_subplot(111)  # create axes for plot\n",
    "\n",
    "gridcol = len(grid[0])  # number of cols of grid\n",
    "gridrow = len(grid)  # number of rows of grid\n",
    "\n",
    "\n",
    "def visualize():\n",
    "    plt.axis('scaled')  # make sure 1x1 is displayed as squares\n",
    "    plt.axis('off')  # don't show the axis\n",
    "    plt.axis([-0.5, gridcol + 0.5, -gridrow - 0.5, 0.5])  # [xmin, xmax, ymin, ymax]\n",
    "\n",
    "    ax.add_patch(patches.Rectangle((0, 0), gridcol, -gridrow, fc='none', ec='k'))\n",
    "    for i in range(gridrow):\n",
    "        for j in range(gridcol):\n",
    "            if (i, j) == start:\n",
    "                ax.add_patch(patches.Rectangle((j, -i), 1, -1, fc='g', ec='#222222'))\n",
    "            elif (i, j) == goal:\n",
    "                ax.add_patch(patches.Rectangle((j, -i), 1, -1, fc='b', ec='#222222'))\n",
    "            elif grid[i][j] == -1:\n",
    "                ax.add_patch(patches.Rectangle((j, -i), 1, -1, fc='k', ec='#222222'))\n",
    "            else:\n",
    "                ax.add_patch(patches.Rectangle((j, -i), 1, -1, fc='none', ec='#222222'))\n",
    "\n",
    "\n",
    "visualize()\n",
    "plt.title(\"Grid World\")\n",
    "plt.show()    "
   ]
  },
  {
   "cell_type": "markdown",
   "metadata": {},
   "source": [
    "In the above figure, the green cell is the start position while the blue cell is the goal position"
   ]
  },
  {
   "cell_type": "markdown",
   "metadata": {},
   "source": [
    "## Breadth First Search Algorithm"
   ]
  },
  {
   "cell_type": "markdown",
   "metadata": {},
   "source": [
    "Now we need to find out a way to search a path from the start to the goal, for simplicity, we assume that four actions are available, i.e. north, south, west and east. Assuming that costs for moving in each direction are the same, the easiest and simpliest search way is breadth first search"
   ]
  },
  {
   "cell_type": "code",
   "execution_count": 4,
   "metadata": {},
   "outputs": [
    {
     "name": "stdout",
     "output_type": "stream",
     "text": [
      "The cost from start (0, 0) to goal (4, 5) under BFS is 11!\n",
      "--------------------The intermediate costs are:---------------------------\n",
      "[[0, 1, -1, 7, 8, 9], [1, 2, -1, 6, 7, 8], [2, 3, 4, 5, -1, 9], [3, 4, -1, -1, -1, 10], [4, 5, 6, 7, -1, 11]]\n",
      "--------------------The searching orders are:---------------------------\n",
      "[[0, 2, -1, 15, 17, 19], [1, 4, -1, 13, 16, 18], [3, 6, 9, 11, -1, 20], [5, 8, -1, -1, -1, 21], [7, 10, 12, 14, -1, 22]]\n",
      "--------------------The searching actions are:---------------------------\n",
      "[[-1, 3, -1, 0, 3, 3], [1, 3, -1, 0, 3, 3], [1, 3, 3, 3, -1, 1], [1, 3, -1, -1, -1, 1], [1, 3, 3, 3, -1, 1]]\n"
     ]
    }
   ],
   "source": [
    "delta = [\n",
    "    [-1, 0],  # go north/up\n",
    "    [1, 0],  # go south/down\n",
    "    [0, -1],  # go west/left\n",
    "    [0, 1]  # go east/right\n",
    "]\n",
    "\n",
    "from collections import deque\n",
    "\n",
    "\n",
    "def BFS_Path(grid, start, goal):\n",
    "    '''\n",
    "    (matrix, index, index) ==> (number, maxtrix, matrix, matrix)\n",
    "\n",
    "    return the total cost from start to goal, assuming that the cost of each step is 1\n",
    "    '''\n",
    "    gridcol = len(grid[0])  # number of cols of grid\n",
    "    gridrow = len(grid)  # number of rows of grid\n",
    "    cost_matrix = [[-1 for i in range(gridcol)] for j in range(gridrow)]  # keep track of the cost of search\n",
    "    expansion = [[-1 for i in range(gridcol)] for j in range(gridrow)]  # keep track of the expansion of search\n",
    "    actions = [[-1 for i in range(gridcol)] for j in range(gridrow)]  # keep track of the actions at each step\n",
    "    expand_num = 0\n",
    "\n",
    "    active = deque([])  # keep track of the current active search\n",
    "    if start == goal:  # return if start and goal are the same\n",
    "        return 0, expansion\n",
    "    active.append((0, start[0], start[1]))\n",
    "    cost_matrix[start[0]][start[1]] = 0\n",
    "    expansion[start[0]][start[1]] = 0\n",
    "\n",
    "    while True:\n",
    "        active_size = len(active)\n",
    "        if active_size == 0:\n",
    "            return -1, cost_matrix, expansion, actions  # no path available, return -1 as cost\n",
    "\n",
    "        for i in range(active_size):\n",
    "            cost, x, y = active.popleft()\n",
    "            for actionindex, eachaction in enumerate(delta):\n",
    "                x2 = x + eachaction[0]\n",
    "                y2 = y + eachaction[1]\n",
    "                if 0 <= x2 and x2 < gridrow and 0 <= y2 and y2 < gridcol and cost_matrix[x2][y2] == -1 and grid[x2][\n",
    "                    y2] == 0:\n",
    "                    cost2 = cost + 1\n",
    "                    cost_matrix[x2][y2] = cost2\n",
    "                    active.append((cost2, x2, y2))\n",
    "\n",
    "                    expand_num += 1\n",
    "                    expansion[x2][y2] = expand_num\n",
    "\n",
    "                    actions[x2][y2] = actionindex\n",
    "\n",
    "                    if (x2, y2) == goal:\n",
    "                        return cost2, cost_matrix, expansion, actions\n",
    "                        # found a path, return cost, cost_matrix and expansion matrix                 \n",
    "\n",
    "\n",
    "## now let's see what happens with the above algorithm:\n",
    "\n",
    "cost, cost_matrix, expansion, actions = BFS_Path(grid, start, goal)\n",
    "print(\n",
    "    \"The cost from start ({}, {}) to goal ({}, {}) under BFS is {}!\".format(start[0], start[1], goal[0], goal[1], cost))\n",
    "print('''--------------------The intermediate costs are:---------------------------''')\n",
    "print(cost_matrix)\n",
    "print('''--------------------The searching orders are:---------------------------''')\n",
    "print(expansion)\n",
    "print('''--------------------The searching actions are:---------------------------''')\n",
    "print(actions)"
   ]
  },
  {
   "cell_type": "markdown",
   "metadata": {},
   "source": [
    "Let's try to visualize the expansion code so that we can see it more clear!"
   ]
  },
  {
   "cell_type": "code",
   "execution_count": 5,
   "metadata": {},
   "outputs": [
    {
     "data": {
      "image/png": "[encoded data removed]",
      "text/plain": [
       "<matplotlib.figure.Figure at 0x2630ec700b8>"
      ]
     },
     "metadata": {},
     "output_type": "display_data"
    }
   ],
   "source": [
    "def drawcost(expansion):\n",
    "    for i in range(gridrow):\n",
    "        for j in range(gridcol):\n",
    "            if expansion[i][j] != -1:\n",
    "                ax.text(j + 0.5, -i - 0.5, str(expansion[i][j]), horizontalalignment='center',\n",
    "                        verticalalignment='center', fontsize=14)\n",
    "\n",
    "\n",
    "fig = plt.figure(1)  # create figure\n",
    "ax = fig.add_subplot(111)  # create axes for plot\n",
    "visualize()\n",
    "drawcost(cost_matrix)\n",
    "plt.title(\"costs of intermediate steps\")\n",
    "plt.show()\n"
   ]
  },
  {
   "cell_type": "code",
   "execution_count": 6,
   "metadata": {},
   "outputs": [
    {
     "data": {
      "image/png": "[encoded data removed]",
      "text/plain": [
       "<matplotlib.figure.Figure at 0x2630ec49f28>"
      ]
     },
     "metadata": {},
     "output_type": "display_data"
    }
   ],
   "source": [
    "fig = plt.figure(1)  # create figure\n",
    "ax = fig.add_subplot(111)  # create axes for plot\n",
    "visualize()\n",
    "drawcost(expansion)\n",
    "plt.title(\"order of searches\")\n",
    "plt.show()"
   ]
  },
  {
   "cell_type": "code",
   "execution_count": 7,
   "metadata": {},
   "outputs": [
    {
     "data": {
      "image/png": "[encoded data removed]",
      "text/plain": [
       "<matplotlib.figure.Figure at 0x2631108de10>"
      ]
     },
     "metadata": {},
     "output_type": "display_data"
    }
   ],
   "source": [
    "fig = plt.figure(1)  # create figure\n",
    "ax = fig.add_subplot(111)  # create axes for plot\n",
    "visualize()\n",
    "drawcost(actions)\n",
    "plt.title(\"Intermediate Actions\")\n",
    "plt.show()"
   ]
  },
  {
   "cell_type": "markdown",
   "metadata": {},
   "source": [
    "### Figure out the path\n",
    "\n",
    "With the given intermediate actions, we are able to figure out the paths"
   ]
  },
  {
   "cell_type": "code",
   "execution_count": 8,
   "metadata": {},
   "outputs": [
    {
     "name": "stdout",
     "output_type": "stream",
     "text": [
      "The path is:\n",
      "[(0, 0), (1, 0), (2, 0), (2, 1), (2, 2), (2, 3), (1, 3), (1, 4), (1, 5), (2, 5), (3, 5), (4, 5)]\n"
     ]
    }
   ],
   "source": [
    "def getPath(actions, goal, start):\n",
    "    path = []\n",
    "    path.append(goal)\n",
    "    x = goal[0]\n",
    "    y = goal[1]\n",
    "    while True:\n",
    "        if actions[x][y] == -1:\n",
    "            break\n",
    "        x2 = x - delta[actions[x][y]][0]\n",
    "        y2 = y - delta[actions[x][y]][1]\n",
    "        path.append((x2, y2))\n",
    "        if (x2, y2) == start:\n",
    "            break\n",
    "        x, y = x2, y2\n",
    "    path.reverse()\n",
    "    return path\n",
    "\n",
    "\n",
    "path = getPath(actions, goal, start)\n",
    "print(\"The path is:\")\n",
    "print(path)"
   ]
  },
  {
   "cell_type": "markdown",
   "metadata": {},
   "source": [
    "The path looks correct, but let's visualize it to make it more clear."
   ]
  },
  {
   "cell_type": "code",
   "execution_count": 9,
   "metadata": {},
   "outputs": [
    {
     "data": {
      "image/png": "[encoded data removed]",
      "text/plain": [
       "<matplotlib.figure.Figure at 0x26311153710>"
      ]
     },
     "metadata": {},
     "output_type": "display_data"
    }
   ],
   "source": [
    "def drawPath(path):\n",
    "    xarray = []\n",
    "    yarray = []\n",
    "    for eachnode in path:\n",
    "        xarray.append(eachnode[1] + 0.5)\n",
    "        yarray.append(-eachnode[0] - 0.5)\n",
    "    ax.plot(xarray, yarray, 'r-', lw=3)\n",
    "\n",
    "\n",
    "fig = plt.figure(1)  # create figure\n",
    "ax = fig.add_subplot(111)  # create axes for plot\n",
    "visualize()\n",
    "drawcost(cost_matrix)\n",
    "drawPath(path)\n",
    "plt.title(\"path by BFS\")\n",
    "plt.show()"
   ]
  },
  {
   "cell_type": "markdown",
   "metadata": {},
   "source": [
    "## Low Cost First Search\n",
    "The above result looks good so far except that the costs for different moves are the same, which is not likely true for most situations. If the costs are different, then BFS search won't work. An easy modification can solve this problem. We just need to expand the search starting from the one with the lowest cost."
   ]
  },
  {
   "cell_type": "code",
   "execution_count": 10,
   "metadata": {},
   "outputs": [
    {
     "name": "stdout",
     "output_type": "stream",
     "text": [
      "The cost from start (0, 0) to goal (4, 5) under BFS is 14!\n",
      "--------------------The intermediate costs are:---------------------------\n",
      "[[0, 2, -1, 11, 12, 14], [2, 3, -1, 9, 11, 13], [4, 5, 6, 8, -1, 14], [6, 7, -1, -1, 11, 13], [8, 9, 10, 12, -1, 14]]\n",
      "--------------------The searching orders are:---------------------------\n",
      "[[0, 2, -1, 16, 17, 20], [1, 3, -1, 10, 14, 19], [4, 5, 6, 9, -1, 21], [7, 8, -1, -1, 15, 22], [11, 12, 13, 18, -1, 23]]\n",
      "--------------------The searching actions are:---------------------------\n",
      "[[-1, 3, -1, 0, 5, 5], [1, 7, -1, 5, 5, 3], [1, 7, 7, 3, -1, 7], [1, 7, -1, -1, 7, 3], [1, 7, 7, 3, -1, 7]]\n"
     ]
    }
   ],
   "source": [
    "delta = [\n",
    "    [-1,  0],  # go north/up\n",
    "    [ 1,  0],  # go south/down\n",
    "    [ 0, -1],  # go west/left\n",
    "    [ 0,  1],  # go east/right\n",
    "    [-1, -1],  # go northwest\n",
    "    [-1,  1],  # go northeast\n",
    "    [ 1, -1],  # go southwest\n",
    "    [ 1,  1]   # go southeast\n",
    "]\n",
    "delta_cost = [2, 2, 2, 2, 3, 3, 3, 3]  # moving diagonally result in 1.5 times cost than vertical or horizontal moves\n",
    "\n",
    "\n",
    "def LCF_Path(grid, start, goal):\n",
    "    '''\n",
    "    (matrix, index, index) ==> (number, maxtrix, matrix, matrix)\n",
    "\n",
    "    return the total cost from start to goal, assuming that the cost of each step is 1\n",
    "    '''\n",
    "    gridcol = len(grid[0])  # number of cols of grid\n",
    "    gridrow = len(grid)  # number of rows of grid\n",
    "    cost_matrix = [[-1 for i in range(gridcol)] for j in range(gridrow)]  # keep track of the cost of search\n",
    "    expansion = [[-1 for i in range(gridcol)] for j in range(gridrow)]  # keep track of the expansion of search\n",
    "    actions = [[-1 for i in range(gridcol)] for j in range(gridrow)]  # keep track of the actions at each step\n",
    "    expand_num = 0\n",
    "\n",
    "    active = []  # keep track of the current active search\n",
    "    if start == goal:  # return if start and goal are the same\n",
    "        return 0, expansion\n",
    "    active.append([0, start[0], start[1]])\n",
    "    cost_matrix[start[0]][start[1]] = 0\n",
    "    expansion[start[0]][start[1]] = 0\n",
    "\n",
    "    while True:\n",
    "        if len(active) == 0:\n",
    "            return -1, cost_matrix, expansion, actions  # no path available, return -1 as cost\n",
    "\n",
    "        active.sort()  # sort the list so that the least cost item is popped first\n",
    "        active.reverse()\n",
    "        cost, x, y = active.pop()\n",
    "\n",
    "        for actionindex, eachaction in enumerate(delta):\n",
    "            x2 = x + eachaction[0]\n",
    "            y2 = y + eachaction[1]\n",
    "\n",
    "            if 0 <= x2 and x2 < gridrow and 0 <= y2 and y2 < gridcol and cost_matrix[x2][y2] == -1 and grid[x2][\n",
    "                y2] == 0:\n",
    "                cost2 = cost + delta_cost[actionindex]\n",
    "                cost_matrix[x2][y2] = cost2\n",
    "                active.append([cost2, x2, y2])\n",
    "\n",
    "                expand_num += 1\n",
    "                expansion[x2][y2] = expand_num\n",
    "\n",
    "                actions[x2][y2] = actionindex\n",
    "\n",
    "                if (x2, y2) == goal:\n",
    "                    return cost2, cost_matrix, expansion, actions\n",
    "                    # found a path, return cost, cost_matrix and expansion matrix\n",
    "\n",
    "\n",
    "## now let's see what happens with the above algorithm:\n",
    "\n",
    "cost, cost_matrix, expansion, actions = LCF_Path(grid, start, goal)\n",
    "print(\n",
    "    \"The cost from start ({}, {}) to goal ({}, {}) under BFS is {}!\".format(start[0], start[1], goal[0], goal[1], cost))\n",
    "print('''--------------------The intermediate costs are:---------------------------''')\n",
    "print(cost_matrix)\n",
    "print('''--------------------The searching orders are:---------------------------''')\n",
    "print(expansion)\n",
    "print('''--------------------The searching actions are:---------------------------''')\n",
    "print(actions)\n"
   ]
  },
  {
   "cell_type": "code",
   "execution_count": 11,
   "metadata": {},
   "outputs": [
    {
     "data": {
      "image/png": "[encoded data removed]",
      "text/plain": [
       "<matplotlib.figure.Figure at 0x26311200e80>"
      ]
     },
     "metadata": {},
     "output_type": "display_data"
    }
   ],
   "source": [
    "fig = plt.figure(1)  # create figure\n",
    "ax = fig.add_subplot(111)  # create axes for plot\n",
    "visualize()\n",
    "drawcost(cost_matrix)\n",
    "plt.title(\"costs of intermediate steps\")\n",
    "plt.show()"
   ]
  },
  {
   "cell_type": "code",
   "execution_count": 12,
   "metadata": {},
   "outputs": [
    {
     "data": {
      "image/png": "[encoded data removed]",
      "text/plain": [
       "<matplotlib.figure.Figure at 0x26311256828>"
      ]
     },
     "metadata": {},
     "output_type": "display_data"
    }
   ],
   "source": [
    "fig = plt.figure(1)  # create figure\n",
    "ax = fig.add_subplot(111)  # create axes for plot\n",
    "visualize()\n",
    "drawcost(expansion)\n",
    "plt.title(\"order of searches\")\n",
    "plt.show()"
   ]
  },
  {
   "cell_type": "code",
   "execution_count": 13,
   "metadata": {},
   "outputs": [
    {
     "data": {
      "image/png": "[encoded data removed]",
      "text/plain": [
       "<matplotlib.figure.Figure at 0x263113876d8>"
      ]
     },
     "metadata": {},
     "output_type": "display_data"
    }
   ],
   "source": [
    "fig = plt.figure(1)  # create figure\n",
    "ax = fig.add_subplot(111)  # create axes for plot\n",
    "visualize()\n",
    "drawcost(actions)\n",
    "plt.title(\"Intermediate Actions\")\n",
    "plt.show()"
   ]
  },
  {
   "cell_type": "code",
   "execution_count": 14,
   "metadata": {},
   "outputs": [
    {
     "name": "stdout",
     "output_type": "stream",
     "text": [
      "The path is:\n",
      "[(0, 0), (1, 1), (2, 2), (2, 3), (3, 4), (4, 5)]\n"
     ]
    },
    {
     "data": {
      "image/png": "[encoded data removed]",
      "text/plain": [
       "<matplotlib.figure.Figure at 0x26311342b38>"
      ]
     },
     "metadata": {},
     "output_type": "display_data"
    }
   ],
   "source": [
    "path = getPath(actions, goal, start)\n",
    "print(\"The path is:\")\n",
    "print(path)\n",
    "\n",
    "fig = plt.figure(1)  # create figure\n",
    "ax = fig.add_subplot(111)  # create axes for plot\n",
    "visualize()\n",
    "drawcost(cost_matrix)\n",
    "drawPath(path)\n",
    "plt.title(\"path by LCF\")\n",
    "plt.show()\n"
   ]
  },
  {
   "cell_type": "markdown",
   "metadata": {},
   "source": [
    "# A* search Algorithm\n",
    "The above results looks all good, except that the search algorithm did a lot of useless searches. One way to solve this is using A* searching algorithms, which is fast if the search space is large. The idea is that we sort the active array which stores the waiting list of active intermediate points by a new cost, which is $$ newcost=cost+heuristiccost$$\n",
    "The $heuristiccost$ is valid for a cell, as long as the heuristic cost of that cell is no larger than the actual minimum cost from that cell to the goal. $$heruristiccost\\leq min(acutalcost)$$\n",
    "For the diagonal move case, a good $heuristiccost$ could be $$ heuristiccost=max(xcostfromgoal, ycostfromgoal)$$"
   ]
  },
  {
   "cell_type": "code",
   "execution_count": 15,
   "metadata": {},
   "outputs": [],
   "source": [
    "def Astar_Path(grid, start, goal):\n",
    "    '''\n",
    "    (matrix, index, index) ==> (number, maxtrix, matrix, matrix)\n",
    "\n",
    "    return the total cost from start to goal, assuming that the cost of each step is 1\n",
    "    '''\n",
    "    gridcol = len(grid[0])  # number of cols of grid\n",
    "    gridrow = len(grid)  # number of rows of grid\n",
    "    cost_matrix = [[-1 for i in range(gridcol)] for j in range(gridrow)]  # keep track of the cost of search\n",
    "    expansion = [[-1 for i in range(gridcol)] for j in range(gridrow)]  # keep track of the expansion of search\n",
    "    actions = [[-1 for i in range(gridcol)] for j in range(gridrow)]  # keep track of the actions at each step\n",
    "    expand_num = 0\n",
    "\n",
    "    active = []  # keep track of the current active search\n",
    "    if start == goal:  # return if start and goal are the same\n",
    "        return 0, expansion\n",
    "    heucost = 0 + max(abs(start[0] - goal[0]), abs(start[1] - goal[1])) * 2\n",
    "    active.append([heucost, 0, start[0], start[1]])\n",
    "    cost_matrix[start[0]][start[1]] = 0\n",
    "    expansion[start[0]][start[1]] = 0\n",
    "\n",
    "    while True:\n",
    "        if len(active) == 0:\n",
    "            return -1, cost_matrix, expansion, actions  # no path available, return -1 as cost\n",
    "\n",
    "        active.sort()  # sort the list so that the least cost item is popped first\n",
    "        active.reverse()\n",
    "        heucost, cost, x, y = active.pop()\n",
    "\n",
    "        for actionindex, eachaction in enumerate(delta):\n",
    "            x2 = x + eachaction[0]\n",
    "            y2 = y + eachaction[1]\n",
    "\n",
    "            if 0 <= x2 and x2 < gridrow and 0 <= y2 and y2 < gridcol and cost_matrix[x2][y2] == -1 and grid[x2][\n",
    "                y2] == 0:\n",
    "                cost2 = cost + delta_cost[actionindex]\n",
    "                cost_matrix[x2][y2] = cost2\n",
    "                heucost2 = cost2 + max(abs(x2 - goal[0]), abs(y2 - goal[1])) * 2\n",
    "                active.append([heucost2, cost2, x2, y2])\n",
    "\n",
    "                expand_num += 1\n",
    "                expansion[x2][y2] = expand_num\n",
    "\n",
    "                actions[x2][y2] = actionindex\n",
    "\n",
    "                if (x2, y2) == goal:\n",
    "                    return cost2, cost_matrix, expansion, actions\n",
    "                    # found a path, return cost, cost_matrix and expansion matrix\n"
   ]
  },
  {
   "cell_type": "code",
   "execution_count": 16,
   "metadata": {},
   "outputs": [
    {
     "data": {
      "image/png": "[encoded data removed]",
      "text/plain": [
       "<matplotlib.figure.Figure at 0x263111eec18>"
      ]
     },
     "metadata": {},
     "output_type": "display_data"
    }
   ],
   "source": [
    "## Now let's see the difference\n",
    "# delta_cost=[2,2,2,2,2,2,2,2]\n",
    "\n",
    "cost, cost_matrix, expansion, actions = Astar_Path(grid, start, goal)\n",
    "cost2, cost_matrix2, expansion2, actions2 = Astar_Path(grid, start, goal)\n",
    "\n",
    "fig = plt.figure(1)  # create figure\n",
    "ax = fig.add_subplot(111)  # create axes for plot\n",
    "visualize()\n",
    "drawcost(cost_matrix)\n",
    "plt.title(\"costs of intermediate steps\")\n",
    "plt.show()"
   ]
  },
  {
   "cell_type": "code",
   "execution_count": 17,
   "metadata": {},
   "outputs": [
    {
     "data": {
      "image/png": "[encoded data removed]",
      "text/plain": [
       "<matplotlib.figure.Figure at 0x263112ca748>"
      ]
     },
     "metadata": {},
     "output_type": "display_data"
    }
   ],
   "source": [
    "fig = plt.figure(1)  # create figure\n",
    "ax = fig.add_subplot(111)  # create axes for plot\n",
    "visualize()\n",
    "drawcost(expansion)\n",
    "plt.title(\"order of searches\")\n",
    "plt.show()"
   ]
  },
  {
   "cell_type": "markdown",
   "metadata": {},
   "source": [
    "**The upper right and lower left cells are no longer searched for**, suggesting that A* improves the search performance. The improvement will be more significant if the map size is bigger."
   ]
  },
  {
   "cell_type": "code",
   "execution_count": 18,
   "metadata": {},
   "outputs": [
    {
     "name": "stdout",
     "output_type": "stream",
     "text": [
      "The path is:\n",
      "[(0, 0), (1, 1), (2, 2), (2, 3), (3, 4), (4, 5)]\n"
     ]
    },
    {
     "data": {
      "image/png": "[encoded data removed]",
      "text/plain": [
       "<matplotlib.figure.Figure at 0x26310e7e978>"
      ]
     },
     "metadata": {},
     "output_type": "display_data"
    }
   ],
   "source": [
    "path = getPath(actions, goal, start)\n",
    "print(\"The path is:\")\n",
    "print(path)\n",
    "\n",
    "fig = plt.figure(1)  # create figure\n",
    "ax = fig.add_subplot(111)  # create axes for plot\n",
    "visualize()\n",
    "drawcost(cost_matrix)\n",
    "drawPath(path)\n",
    "plt.title(\"path by A*\")\n",
    "plt.show()"
   ]
  },
  {
   "cell_type": "markdown",
   "metadata": {},
   "source": [
    "**The same cost to goal is achieved** but with **--less--** searches"
   ]
  },
  {
   "cell_type": "markdown",
   "metadata": {},
   "source": [
    "# Dynamic Programming\n",
    "Although breadth first search and low cost first search can give the path for most cases, however, for some extreme cases, the result is not guaranteed to be optimal. Another way of solving the path searching problem is dynamic programming. The idea of dynamic programming is that we make a scan of all the cells and try to decrease its cost by trying all possible actions and decreasing the cost as long as a lower cost path can be found, until no more decrease of the cost can be applied. This idea is very close to the value iteration in reinforcement learning. But this method will take longer time to compute."
   ]
  },
  {
   "cell_type": "code",
   "execution_count": 19,
   "metadata": {},
   "outputs": [
    {
     "data": {
      "image/png": "[encoded data removed]",
      "text/plain": [
       "<matplotlib.figure.Figure at 0x26310faaa90>"
      ]
     },
     "metadata": {},
     "output_type": "display_data"
    }
   ],
   "source": [
    "def DP_Path(grid, goal):\n",
    "    '''\n",
    "    (matrix, index, index) ==> (number, matrix)\n",
    "\n",
    "    return the total cost from start to goal, assuming that the cost of each step is 1\n",
    "    '''\n",
    "    gridcol = len(grid[0])  # number of cols of grid\n",
    "    gridrow = len(grid)  # number of rows of grid\n",
    "    cost_matrix = [[1000 for i in range(gridcol)] for j in range(gridrow)]  # keep track of the cost of search\n",
    "    actions = [[-1 for i in range(gridcol)] for j in range(gridrow)]  # keep track of the actions at each step\n",
    "\n",
    "    cost_matrix[goal[0]][goal[1]] = 0\n",
    "    it = 0\n",
    "    modified = True\n",
    "    while modified:  # if there is modification\n",
    "        modified = False\n",
    "        it += 1\n",
    "        for i in range(gridrow):\n",
    "            for j in range(gridcol):\n",
    "                if grid[i][j] == 0:\n",
    "                    for actnum, move in enumerate(delta):\n",
    "                        x = i + move[0]\n",
    "                        y = j + move[1]\n",
    "                        if 0 <= x < gridrow and 0 <= y < gridcol and delta_cost[actnum] + cost_matrix[x][y] < \\\n",
    "                                cost_matrix[i][j]:\n",
    "                            ## update cost if cost is lower\n",
    "                            cost_matrix[i][j] = cost_matrix[x][y] + delta_cost[actnum]\n",
    "                            actions[i][j] = actnum\n",
    "                            modified = True\n",
    "    return cost_matrix, actions, it\n",
    "\n",
    "\n",
    "cost_matrix, actions, it = DP_Path(grid, goal)\n",
    "\n",
    "fig = plt.figure(1)  # create figure\n",
    "ax = fig.add_subplot(111)  # create axes for plot\n",
    "\n",
    "visualize()\n",
    "drawcost(cost_matrix)\n",
    "drawPath(path)\n",
    "plt.title(\"costs to goal and paths\")\n",
    "plt.show()"
   ]
  },
  {
   "cell_type": "markdown",
   "metadata": {},
   "source": [
    "## Left Turn Policy\n",
    "with dynamic programming, one interesting thing is that we can implement some code to achieve the left turn policy which avoids left turns given that the cost of turning left is higher than go straight and go right"
   ]
  },
  {
   "cell_type": "code",
   "execution_count": 20,
   "metadata": {},
   "outputs": [
    {
     "data": {
      "image/png": "[encoded data removed]",
      "text/plain": [
       "<matplotlib.figure.Figure at 0x26310feae10>"
      ]
     },
     "metadata": {},
     "output_type": "display_data"
    }
   ],
   "source": [
    "grid = [[-1, -1, -1, 0, 0, 0],\n",
    "        [-1, -1, -1, 0, -1, 0],\n",
    "        [0, 0, 0, 0, 0, 0],\n",
    "        [-1, -1, -1, 0, -1, -1],\n",
    "        [-1, -1, -1, 0, -1, -1]]\n",
    "start = (4, 3)\n",
    "goal = (2, 0)\n",
    "fig = plt.figure(1)  # create figure\n",
    "ax = fig.add_subplot(111)  # create axes for plot\n",
    "visualize()\n",
    "plt.show()\n"
   ]
  },
  {
   "cell_type": "markdown",
   "metadata": {},
   "source": [
    "We can provide some function to calculate the paths by dynamic programming with cost of [2, 1, 20] for going right, straight and left and the solution would be a path that takes right turns without making left turns"
   ]
  },
  {
   "cell_type": "code",
   "execution_count": 21,
   "metadata": {},
   "outputs": [
    {
     "data": {
      "image/png": "[encoded data removed]",
      "text/plain": [
       "<matplotlib.figure.Figure at 0x26312391c88>"
      ]
     },
     "metadata": {},
     "output_type": "display_data"
    }
   ],
   "source": [
    "# def optimum_policy2D(grid, init, goal, cost):\n",
    "# '''\n",
    "# the function body is intentionally hided to prevent leaking of course materials.\n",
    "# send me an email for implementation details\n",
    "# '''\n",
    "#     pass\n",
    "\n",
    "## the resulted path after this function should be\n",
    "path = [(4, 3), (3, 3), (2, 3), (1, 3), (0, 3), (0, 4), (0, 5), (1, 5), (2, 5), (2, 4), (2, 3), (2, 2), (2, 1), (2, 0)]\n",
    "\n",
    "fig = plt.figure(1)  # create figure\n",
    "ax = fig.add_subplot(111)  # create axes for plot\n",
    "visualize()\n",
    "drawPath(path)\n",
    "plt.show()\n"
   ]
  }
 ],
 "metadata": {
  "kernelspec": {
   "display_name": "Python 3",
   "language": "python",
   "name": "python3"
  },
  "language_info": {
   "codemirror_mode": {
    "name": "ipython",
    "version": 3
   },
   "file_extension": ".py",
   "mimetype": "text/x-python",
   "name": "python",
   "nbconvert_exporter": "python",
   "pygments_lexer": "ipython3",
   "version": "3.6.3"
  }
 },
 "nbformat": 4,
 "nbformat_minor": 1
}
