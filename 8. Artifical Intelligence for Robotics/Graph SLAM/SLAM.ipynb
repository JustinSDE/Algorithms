{
 "cells": [
  {
   "cell_type": "markdown",
   "metadata": {},
   "source": [
    "# Graph SLAM (Simultaneous Localization And Mapping)\n"
   ]
  },
  {
   "cell_type": "markdown",
   "metadata": {},
   "source": [
    "SLAM is a neat techique since it allows both localization of a robot and mapping the world at the same time and it can be implemented in an incremental way."
   ]
  },
  {
   "cell_type": "markdown",
   "metadata": {},
   "source": [
    "The basic idea of SLAM is that we have a sequence of measurements or movements, we can create two matrices $\\Omega$ and $\\xi$. For each measured sequence $x_i - x_j = c_k$, we update the $\\Omega$ and $\\xi$ in the following way:\n",
    "$$\\Omega_{i,i} \\ +=1; \\Omega_{i,j} \\  -=1; \\xi_{i} \\  += \\ c_k$$\n",
    "$$\\Omega_{j,i} \\ -= \\ 1; \\Omega_{j,j} \\ += \\ 1; \\xi_{j} \\ -= \\ c_k$$\n",
    "After the update, the position of each x can be computed by $$x=\\Omega ^{-1} \\xi$$\n",
    "&nbsp;&nbsp;&nbsp;&nbsp;&nbsp;&nbsp;A more detailed illustration of this process can be found [here](https://www.youtube.com/watch?time_continue=3&v=V41eTlGU0gw)"
   ]
  },
  {
   "cell_type": "markdown",
   "metadata": {},
   "source": [
    "Here, I would like to talk about why this works. The key is that we have a series of locations (including the robot positions and landmark positions) $x$, assume that we want to find a good approximation to the true locations. After each movement, the probability of the target at locations $x$ can be expressed as gaussian equations. \n",
    "$$P(x_t | x_{t-1}, x_{t_2}, ..., c_{k}, c_{k-1},...)=const* exp(-\\frac {1}{2}[(x_t - x_{t-1}-c_{k})^2+(x_{t-1}-x_{t-2}-c_{k-1})^2+...])$$\n",
    "In order to maximize the probability, we need to minimize \n",
    "$$f=(x_t - x_{t-1}-c_{k})^2+(x_{t-1}-x_{t-2}-c_{k-1})^2+...=\\sum (x_i - x_j -c_k)^2 $$\n",
    "To minimize this, we need to have $$\\frac {df}{dx_i} =0$$ for any $i$. \n",
    "For any $x_i$ with a plus sign in the equation, we get $$2(x_i-x_j-c_k)$$, so we have the first line of the update rule, for any $x_j$ with a minus sign, we get $$-2(x_i-x_j-c_k)=2(-x_i+x_j+c_k)$$, so we get the second line of the update rule. (Note we removed the 2 in the because it is the same for every line) <br>\n",
    "Since different measurement may have different accuracy, one way is to extend the $f$ function by\n",
    "$$f=\\sum w_k(x_i - x_j -c_k)^2$$ So that measurement with more confidence can be assigned with higher weight $w_k$"
   ]
  },
  {
   "cell_type": "markdown",
   "metadata": {},
   "source": [
    "### Example:\n",
    "we have 3 positions and 2 landmarks, we denote positions as 0, 1, 2 and landmarks as 3 and 4. We get the following measurements"
   ]
  },
  {
   "cell_type": "code",
   "execution_count": 1,
   "metadata": {},
   "outputs": [
    {
     "name": "stdout",
     "output_type": "stream",
     "text": [
      "----------Omega--------------\n",
      " [[ 3. -1.  0. -1.  0.]\n",
      " [-1.  3. -1.  0. -1.]\n",
      " [ 0. -1.  3. -1. -1.]\n",
      " [-1.  0. -1.  2.  0.]\n",
      " [ 0. -1. -1.  0.  2.]]\n",
      "-----------Xi----------------\n",
      " [[ -7.]\n",
      " [ -7.]\n",
      " [ 13.]\n",
      " [ -1.]\n",
      " [  2.]]\n"
     ]
    }
   ],
   "source": [
    "meas = [\n",
    "    [1, 0, 3],  # means x1 - x0 =3\n",
    "    [2, 1, 6],\n",
    "    [3, 0, 4],\n",
    "    [3, 2, -5],\n",
    "    [4, 1, 4],\n",
    "    [4, 2, -2]\n",
    "]\n",
    "\n",
    "# initial value\n",
    "init = [[0, 0]]  # x0 = 0\n",
    "\n",
    "# create matrix based on the above information\n",
    "import numpy as np\n",
    "\n",
    "Omega = np.matrix(np.zeros((5, 5), dtype=np.float))\n",
    "Xi = np.matrix(np.zeros((5, 1), dtype=np.float))\n",
    "# Update the matrix using the above information\n",
    "for key in init:\n",
    "    i = key[0]\n",
    "    c = key[1]\n",
    "    Omega[i, i] += 1\n",
    "    Xi[i] += c\n",
    "for key in meas:\n",
    "    i = key[0]\n",
    "    j = key[1]\n",
    "    c = key[2]\n",
    "    Omega[i, i] += 1\n",
    "    Omega[i, j] += -1\n",
    "    Xi[i] += c\n",
    "    Omega[j, i] += -1\n",
    "    Omega[j, j] += 1\n",
    "    Xi[j] += -c\n",
    "\n",
    "## print out the matrices\n",
    "print(\"----------Omega--------------\\n\", Omega)\n",
    "print(\"-----------Xi----------------\\n\", Xi)"
   ]
  },
  {
   "cell_type": "code",
   "execution_count": 2,
   "metadata": {},
   "outputs": [
    {
     "name": "stdout",
     "output_type": "stream",
     "text": [
      "-----------coordinates----------\n",
      " [[ 0.]\n",
      " [ 3.]\n",
      " [ 9.]\n",
      " [ 4.]\n",
      " [ 7.]]\n"
     ]
    }
   ],
   "source": [
    "from numpy.linalg import inv\n",
    "\n",
    "## now let's print out the coordinate of the landmarks and positions\n",
    "x = np.dot(inv(Omega), Xi)\n",
    "print(\"-----------coordinates----------\\n\", x)"
   ]
  },
  {
   "cell_type": "markdown",
   "metadata": {},
   "source": [
    "It turns out the the above result gives exactly the measurement in meas. <br>\n",
    "now let's try to add some noise\n"
   ]
  },
  {
   "cell_type": "code",
   "execution_count": 3,
   "metadata": {},
   "outputs": [
    {
     "name": "stdout",
     "output_type": "stream",
     "text": [
      "----------noisy measurements----------\n",
      " [[1, 0, 3.0532128474193785], [2, 1, 5.924411460534505], [3, 0, 4.0401340282831475], [3, 2, -4.915820628202132], [4, 1, 3.955000197181814], [4, 2, -2.0312694345492623]]\n"
     ]
    }
   ],
   "source": [
    "np.random.seed(3965487)\n",
    "for eachitem in meas:\n",
    "    eachitem[2] += eachitem[2] * 0.05 * (np.random.random() - 0.5)\n",
    "print(\"----------noisy measurements----------\\n\", meas)"
   ]
  },
  {
   "cell_type": "code",
   "execution_count": 4,
   "metadata": {},
   "outputs": [
    {
     "name": "stdout",
     "output_type": "stream",
     "text": [
      "-----------coordinates----------\n",
      " [[ 0.        ]\n",
      " [ 3.04167947]\n",
      " [ 8.97902141]\n",
      " [ 4.0516674 ]\n",
      " [ 6.97221582]]\n"
     ]
    }
   ],
   "source": [
    "## rerun the calculations\n",
    "Omega = np.matrix(np.zeros((5, 5)))\n",
    "Xi = np.matrix(np.zeros((5, 1)))\n",
    "# Update the matrix using the above information\n",
    "for key in init:\n",
    "    i = key[0]\n",
    "    c = key[1]\n",
    "    Omega[i, i] += 1\n",
    "    Xi[i] += c\n",
    "for key in meas:\n",
    "    i = key[0]\n",
    "    j = key[1]\n",
    "    c = key[2]\n",
    "    Omega[i, i] += 1\n",
    "    Omega[i, j] += -1\n",
    "    Xi[i] += c\n",
    "    Omega[j, i] += -1\n",
    "    Omega[j, j] += 1\n",
    "    Xi[j] += -c\n",
    "x = np.dot(inv(Omega), Xi)\n",
    "print(\"-----------coordinates----------\\n\", x)"
   ]
  },
  {
   "cell_type": "markdown",
   "metadata": {},
   "source": [
    "The above result shows that we can still make a good estimation"
   ]
  },
  {
   "cell_type": "markdown",
   "metadata": {},
   "source": [
    "## Online SLAM\n",
    "sometime, we are only interested in the position of landmarks, and the last position of the moving object. We want to avoid the expansion of the matrices. The way to do it is that we use online SLAM. To make this happen, we simply need to find a way to remove a row and a column from the matrix, without modifying the the result of other position. For an equation $$\\Omega x=\\xi$$ it simply means that $$\\sum \\Omega_{i,j}x_j = \\xi _i $$ for any $i$. Suppose we want to remove the first element $x_1$, we simply need to represent $x_i$ with other $x$s and substitue it into all other rows. So the update rule is $$ \\Omega_{i,j}+=-\\frac {\\Omega_{i,1}}{\\Omega_{1,1}} {\\Omega_{1,j}}, \\ \\ \\ \\ \\xi_i+=-\\frac {\\Omega_{i,1}}{\\Omega_{1,1}} \\xi_1 $$ for any $i \\neq 1$. For any other elements $k$, we simply need to replace 1 with $k$"
   ]
  },
  {
   "cell_type": "code",
   "execution_count": 5,
   "metadata": {},
   "outputs": [
    {
     "name": "stdout",
     "output_type": "stream",
     "text": [
      "-----before remove x4---------\n",
      "[[ 3. -1.  0. -1.  0.]\n",
      " [-1.  3. -1.  0. -1.]\n",
      " [ 0. -1.  3. -1. -1.]\n",
      " [-1.  0. -1.  2.  0.]\n",
      " [ 0. -1. -1.  0.  2.]]\n",
      "[[ -7.09334688]\n",
      " [ -6.82619881]\n",
      " [ 12.87150152]\n",
      " [ -0.8756866 ]\n",
      " [  1.92373076]]\n",
      "-----after remove x4---------\n",
      "[[ 3.  -1.   0.  -1. ]\n",
      " [-1.   2.5 -1.5  0. ]\n",
      " [ 0.  -1.5  2.5 -1. ]\n",
      " [-1.   0.  -1.   2. ]]\n",
      "[[ -7.09334688]\n",
      " [ -5.86433343]\n",
      " [ 13.8333669 ]\n",
      " [ -0.8756866 ]]\n",
      "-----------coordinates----------\n",
      " [[ 0.        ]\n",
      " [ 3.04167947]\n",
      " [ 8.97902141]\n",
      " [ 4.0516674 ]]\n"
     ]
    }
   ],
   "source": [
    "## Now let's use the above update rule and see if it works, because x0==0, let's remove x4\n",
    "print(\"-----before remove x4---------\")\n",
    "print(Omega)\n",
    "print(Xi)\n",
    "for i in range(0, 4):\n",
    "    factor = -(1.0 * Omega[i, 4] / Omega[4, 4])\n",
    "    for j in range(5):\n",
    "        Omega[i, j] += factor * Omega[4, j]\n",
    "    Xi[i, 0] += factor * Xi[4, 0]\n",
    "\n",
    "Omega = Omega[0:4, 0:4]\n",
    "Xi = Xi[0:4, :]\n",
    "print(\"-----after remove x4---------\")\n",
    "print(Omega)\n",
    "print(Xi)\n",
    "# print(Omega[0,0])\n",
    "x = np.dot(inv(Omega), Xi)\n",
    "print(\"-----------coordinates----------\\n\", x)"
   ]
  },
  {
   "cell_type": "markdown",
   "metadata": {},
   "source": [
    "The result shows that the x0 to x3 values are the same as the one calculated before. Using this technique, one is able to keep track of a robot's last position, without building a huge matrix since all the past positions are fogotten"
   ]
  }
 ],
 "metadata": {
  "kernelspec": {
   "display_name": "Python 3",
   "language": "python",
   "name": "python3"
  },
  "language_info": {
   "codemirror_mode": {
    "name": "ipython",
    "version": 3
   },
   "file_extension": ".py",
   "mimetype": "text/x-python",
   "name": "python",
   "nbconvert_exporter": "python",
   "pygments_lexer": "ipython3",
   "version": "3.6.3"
  }
 },
 "nbformat": 4,
 "nbformat_minor": 2
}
