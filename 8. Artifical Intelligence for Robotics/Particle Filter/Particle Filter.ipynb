{
 "cells": [
  {
   "cell_type": "markdown",
   "metadata": {},
   "source": [
    "# Particle Filter\n",
    "Karman filter is a useful technique, however, for multimodal situations, it is not a good choice. Particle filter is a good technique that it represent the possible state of the real target by many points. After each move, all the points move in the same way. Then based on the measurement data from the real object, the particles are sampled based on the probability of matching the real situation of the object. As time goes on, the particles will go closer and closer and therefore the real state of the target can be estimated. <br>\n",
    "The code[(source code)](./PtlFilter.py) implemented a particle filter to estimate the state of a target moving with some given commands subject to both movement noise and measurement noise. "
   ]
  },
  {
   "cell_type": "markdown",
   "metadata": {},
   "source": [
    "A video demo can be found here: https://youtu.be/ReHJL_GDYqM \n",
    "<br>\n",
    "it can be found that the particles are estimating closer and closer to the object's real position"
   ]
  }
 ],
 "metadata": {
  "kernelspec": {
   "display_name": "Python 3",
   "language": "python",
   "name": "python3"
  },
  "language_info": {
   "codemirror_mode": {
    "name": "ipython",
    "version": 3
   },
   "file_extension": ".py",
   "mimetype": "text/x-python",
   "name": "python",
   "nbconvert_exporter": "python",
   "pygments_lexer": "ipython3",
   "version": "3.6.3"
  }
 },
 "nbformat": 4,
 "nbformat_minor": 2
}
