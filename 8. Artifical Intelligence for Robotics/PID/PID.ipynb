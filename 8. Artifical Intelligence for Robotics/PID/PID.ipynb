{
 "cells": [
  {
   "cell_type": "markdown",
   "metadata": {},
   "source": [
    "In this notebook, I will talk about <span style=\"font-size:14pt\">PID (proportional, integral and differential)</span> control\n",
    "\n",
    "The entire code can be found [here](https://github.com/HinderKing/Algorithms/blob/master/8.%20Artifical%20Intelligence%20for%20Robotics/PID/PID.py)"
   ]
  },
  {
   "cell_type": "markdown",
   "metadata": {},
   "source": [
    "The overall PID contorl algorithm can be written as \n",
    "$$u(t)=K_p e(t)+K_i \\int\\limits_0^t e(t) \\, dt + K_d\\frac{de(t)}{dt}$$\n",
    "in which$u(t)$ is the *control variable*, $e(t)$ is an *error value* between a desired *set point* $r(t)$ and *measured process variable* $y(t)$, $K_p, K_i, K_d$ are the coeffcients for the differential, integral, and derivative terms.<br>\n",
    "&nbsp;&nbsp;&nbsp;&nbsp;&nbsp;&nbsp;To illustrate the function of each term, I created a *target* with some heat dissipation function and then use a PID controller to control the temperature to the target value by input some power."
   ]
  },
  {
   "cell_type": "markdown",
   "metadata": {},
   "source": [
    "### The agent\n",
    "```python\n",
    "class Heater:\n",
    "    def __init__(self, roomtemperature, parampower=0.01, paramcoolrate=0.001):\n",
    "        self.temperature = roomtemperature\n",
    "        self.roomtemperature = roomtemperature\n",
    "        self.parampower = parampower\n",
    "        self.paramcoolrate = paramcoolrate\n",
    "\n",
    "    def getTemperature(self, inputpower):\n",
    "        self.temperature += self.parampower * inputpower - self.paramcoolrate * (\n",
    "                self.temperature - self.roomtemperature + \\\n",
    "                0.5 * math.sqrt(abs(self.temperature - self.roomtemperature)))\n",
    "        return self.temperature\n",
    "\n",
    "```\n",
    "### The controller\n",
    "```python\n",
    "class PIDController:\n",
    "    def __init__(self, prop, integral, differential):\n",
    "        self.param_p = prop\n",
    "        self.param_i = integral\n",
    "        self.param_d = differential\n",
    "        self.accum_i = 0.0\n",
    "        self.prev_diff = 0\n",
    "\n",
    "    def getpower(self, measured_temp, target_temp):\n",
    "        diff = measured_temp - target_temp\n",
    "        diff_change = diff - self.prev_diff\n",
    "        self.prev_diff = diff\n",
    "        self.accum_i += diff\n",
    "        power = -self.param_p * diff - self.param_d * diff_change - self.param_i * self.accum_i\n",
    "        if power < 0:\n",
    "            power = 0\n",
    "        return power\n",
    "```\n"
   ]
  },
  {
   "cell_type": "markdown",
   "metadata": {},
   "source": [
    "![heating behavior](./Figures/temp increase.png)\n",
    "This figure shows the temperature increase behavior given that the input power is 20"
   ]
  },
  {
   "cell_type": "markdown",
   "metadata": {},
   "source": [
    "### PID parameters\n",
    "![PID](./Figures/PID.png)\n",
    "![PI](./Figures/PI.png)\n",
    "![PD](./Figures/PD.png)\n",
    "![ID](./Figures/ID.png)\n",
    "![P](./Figures/P.png)\n",
    "![I](./Figures/I.png)\n",
    "![D](./Figures/D.png)"
   ]
  },
  {
   "cell_type": "markdown",
   "metadata": {},
   "source": [
    "### Function of Parameters with tempearture set to 62.5 \n",
    "The **Proportional** terms is useful for minimizing the error by adjusting the *control variable*, however, as can be seen from the figure, only proportional is not enough to bring the value to to set value if there exists some systematic error. The introduction of **Integral** term is able to account for the systmatic error and bring it to the set value, however, only with the integral term, it takes too long to converge. From the PI without D figure, it can be seen that the algorithm overshoots a lot. The function of **Differential** term is to decrase overshoot."
   ]
  },
  {
   "cell_type": "markdown",
   "metadata": {},
   "source": [
    "## A programmable temperature control example\n",
    "Here, we present an example to programmably increase the sample temperature to 75 \\degC and cool it down to room temperature, and it turns to be performing pretty well.\n",
    "![TPD](./Figures/TPD.png)"
   ]
  },
  {
   "cell_type": "code",
   "execution_count": null,
   "metadata": {},
   "outputs": [],
   "source": []
  }
 ],
 "metadata": {
  "kernelspec": {
   "display_name": "Python 3",
   "language": "python",
   "name": "python3"
  },
  "language_info": {
   "codemirror_mode": {
    "name": "ipython",
    "version": 3
   },
   "file_extension": ".py",
   "mimetype": "text/x-python",
   "name": "python",
   "nbconvert_exporter": "python",
   "pygments_lexer": "ipython3",
   "version": "3.6.3"
  }
 },
 "nbformat": 4,
 "nbformat_minor": 2
}
