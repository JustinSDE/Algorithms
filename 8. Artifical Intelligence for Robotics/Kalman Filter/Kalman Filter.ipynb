{
 "cells": [
  {
   "cell_type": "markdown",
   "metadata": {},
   "source": [
    "# Kalman Filter\n",
    "&nbsp;&nbsp;&nbsp;&nbsp;&nbsp;&nbsp;Kalman Filter is used to estimate the state of a discrete-time controlled process with noises. Kalman Filter is especially useful for unimodal processes."
   ]
  },
  {
   "cell_type": "markdown",
   "metadata": {},
   "source": [
    "Kalman filter has two steps, predication and update<sup>[ref](https://www.cs.cornell.edu/courses/cs4758/2012sp/materials/MI63slides.pdf)</sup><br>\n",
    "#### Predict\n",
    "\\begin{align} \\hat {x}_{t|t-1} & = F_t \\hat {x}_{t-1|t-1}+B_t u_t \\\\\n",
    "P_{t|t-1} & = F_t P_{t-1|t-1}F_t^T +Q_t \\end{align}\n",
    "#### Update\n",
    "\\begin{align} K_t & = P_{t|t-1}H_t^T(H_t P_{t|t-1} H_t^T +R_t)^{-1} \\\\\n",
    "\\hat {x}_{t|t} & = \\hat {x}_{t|t-1}+K_t(y_t-H_t \\hat {x}_{t|t-1}) \\\\\n",
    "P_{t|t} & =(I-K_t H_t)P_{t|t-1} \\end{align}\n",
    "where <br>\n",
    "$\\hat x$ : Estimated state.<br>\n",
    "$F$: State transition matrix (i.e., transition between states)<br>\n",
    "$u$: Control variables<br>\n",
    "$B$: Control matrix (i.e., mapping control to state variables)<br>\n",
    "$P$: State variance matrix (i.e., error of estiamtion).<br>\n",
    "$Q$: Process variance matrix (i.e., error due to process).<br>\n",
    "$y$: Measurement variables.<br>\n",
    "$H$: Measurement matrix (i.e., mapping measurements onto state).<br>\n",
    "$K$: Kalman gain.<br>\n",
    "$R$: Measurement variance matrix (i.e., error from measurements).<br>\n",
    "Subscripts are as follows: $t|t$ current time period, $t-1|t-1$ previous time period, and $t|t-1$ are intermediate steps.\n"
   ]
  },
  {
   "cell_type": "markdown",
   "metadata": {},
   "source": [
    "### Kalman Filter for robot motion\n",
    "Let's take a look at how Kalman Filter can be used to estimate the motion of a robot. The input is a set of measurements, and there is no external motions<sup>[ref](https://www.youtube.com/watch?time_continue=101&v=4DMuBp1vNn4)</sup>\n",
    "```python\n",
    "measurements = [[1., 4.], [3., 5.], [5., 6.], [7., 7.], [9., 8.], [11., 9.]]\n",
    "initial_xy = [-1., 3.]\n",
    "```\n",
    "The model for this 2D motion problem is that the state is $x=(x,y,vx,vy)^T$, the predication is $x_t=x_{t-1}+vx_{t-1},\\ y_t=y_{t-1}+vy_{t-1} $, the measurement is $x=x,\\ y=y$, $vx$ and $vy$ are not measured.<br>\n",
    "By runnint the Kalman Filter ([source code](./KFRobot.py)), we can get a good estimation of the robot's velocity of last location."
   ]
  },
  {
   "cell_type": "code",
   "execution_count": 1,
   "metadata": {},
   "outputs": [
    {
     "name": "stdout",
     "output_type": "stream",
     "text": [
      "Robot last status is:\n",
      " [[ 10.99868146]\n",
      " [  8.99934073]\n",
      " [ 19.99780244]\n",
      " [  9.99890122]]\n",
      "The State Variance Matrix is:\n",
      " [[ 0.03955609  0.          0.06592682  0.        ]\n",
      " [ 0.          0.03955609  0.          0.06592682]\n",
      " [ 0.06592682  0.          0.10987804  0.        ]\n",
      " [ 0.          0.06592682  0.          0.10987804]]\n"
     ]
    }
   ],
   "source": [
    "import KFRobot\n",
    "print(\"Robot last status is:\\n\", KFRobot.x)\n",
    "print(\"The State Variance Matrix is:\\n\", KFRobot.P)"
   ]
  },
  {
   "cell_type": "markdown",
   "metadata": {},
   "source": [
    "The above result shows that the robot has an $v_x = 20, \\ v_y=10$ and its last position is $x=11, \\  y=9$ which matches the given measurements"
   ]
  },
  {
   "cell_type": "markdown",
   "metadata": {},
   "source": [
    "### The falling body problem\n",
    "Consider for an object falling under gravational accerlation<sup>[ref](http://biorobotics.ri.cmu.edu/papers/sbp_papers/integrated3/kleeman_kalman_basics.pdf)</sup>. Let $y(t)$ denote the height of the object, then\n",
    "\\begin{equation} \\ddot {y}(t)=-g \\end{equation}\n",
    "\\begin{equation} \\dot{y}(t)=\\dot{y}(t_0)-g(t-t_0) \\end{equation}\n",
    "\\begin{equation} y(t)=y(t_0)+\\dot{y}(t_0)(t-t_0)-\\frac{g}{2}(t-t_0)^2 \\end{equation}\n",
    "Incrementally, we got $$y(k+1)=y(k)+\\dot{y}(k)-\\frac{g}{2}$$ \\begin{equation} \\dot{y}(k+1)=\\dot{y}(k)-g \\end{equation}\n",
    "So we can define the state as $$ \\mathbf{x}(k)=[y(k) \\ \\dot{y}(k)]^T$$\n",
    "Then the state equation becomes\n",
    "\\begin{array}{rcl} \\mathbf{x}(k+1) & = & \\begin{bmatrix} 1 & 1 \\\\ 0 & 1 \\end{bmatrix} \\mathbf{x}(k) + \\begin{bmatrix} 0.5 \\\\ 1 \\end{bmatrix} (-g) \\\\ & = & \\mathbf {F} \\mathbf{x}(k)+\\mathbf{B}\\mathbf{u} \\end{array}\n",
    "Assuming we observe or measure the height of the ball directly. The measurement equation is:\n",
    "\\begin{split} \\mathbf{z}(k) & = \\begin{bmatrix} 1 & 0 \\end{bmatrix} \\mathbf{x}(k)+R(k) \\\\ & = \\mathbf{H} \\mathbf{x}(k)+R(k) \\end{split}\n",
    "The measurement noise $R(k)$ needs to be know for implementin a Kalman filter. \n",
    "<br>\n",
    "Assuming an initial *true* state of position = 100 and velocity=0, g=2. Measurement noise is chose to be 4 here. The code can be found [here [source code]](./KFFallingBody.py). After running the script, we got the following result.\n"
   ]
  },
  {
   "cell_type": "code",
   "execution_count": 3,
   "metadata": {},
   "outputs": [
    {
     "data": {
      "image/png": "[encoded data removed]",
      "text/plain": [
       "<matplotlib.figure.Figure at 0x2ebd38d27f0>"
      ]
     },
     "metadata": {},
     "output_type": "display_data"
    }
   ],
   "source": [
    "import KFFallingBody as FB\n",
    "import matplotlib.pyplot as plt\n",
    "plt.plot(FB.predicted_y, 'bo-', label=\"Predicted\")\n",
    "plt.plot(FB.measurements, 'rs--', label=\"Measured\")\n",
    "plt.plot(FB.ypos, 'k*-', label=\"True\")\n",
    "plt.legend()\n",
    "plt.show()\n",
    "\n",
    "# the result shows that although the measurement \n",
    "# of the falling path is really noisy, after applying the kalman filter, \n",
    "# we can still get some good estimation of the position of the body"
   ]
  },
  {
   "cell_type": "code",
   "execution_count": null,
   "metadata": {},
   "outputs": [],
   "source": []
  }
 ],
 "metadata": {
  "kernelspec": {
   "display_name": "Python 3",
   "language": "python",
   "name": "python3"
  },
  "language_info": {
   "codemirror_mode": {
    "name": "ipython",
    "version": 3
   },
   "file_extension": ".py",
   "mimetype": "text/x-python",
   "name": "python",
   "nbconvert_exporter": "python",
   "pygments_lexer": "ipython3",
   "version": "3.6.3"
  }
 },
 "nbformat": 4,
 "nbformat_minor": 2
}
